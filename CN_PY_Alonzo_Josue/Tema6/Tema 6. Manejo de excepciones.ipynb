{
 "cells": [
  {
   "cell_type": "markdown",
   "metadata": {},
   "source": [
    "#### Bloque try y except"
   ]
  },
  {
   "cell_type": "code",
   "execution_count": null,
   "metadata": {},
   "outputs": [
    {
     "name": "stdout",
     "output_type": "stream",
     "text": [
      "No puedes dividir entre 0.\n"
     ]
    }
   ],
   "source": [
    "try:\n",
    "    numero = int(input(\"Introduce un numero: \"))\n",
    "    resultado = 10 / numero\n",
    "    print (resultado)\n",
    "except ZeroDivisionError:\n",
    "    print(\"No puedes dividir entre 0.\")\n",
    "except ValueError:\n",
    "    print(\"Debes ingresar un numero valido.\")\n",
    "    \n",
    "print(\"Hola mundo.\")\n"
   ]
  },
  {
   "cell_type": "markdown",
   "metadata": {},
   "source": [
    "#### Bloque else"
   ]
  },
  {
   "cell_type": "code",
   "execution_count": 8,
   "metadata": {},
   "outputs": [
    {
     "name": "stdout",
     "output_type": "stream",
     "text": [
      "1.1111111111111112\n",
      "Todo funciono correctamente.]\n",
      "Hola mundo.\n"
     ]
    }
   ],
   "source": [
    "try:\n",
    "    numero = int(input(\"Introduce un numero: \"))\n",
    "    resultado = 10 / numero\n",
    "    print (resultado)\n",
    "except ZeroDivisionError:\n",
    "    print(\"No puedes dividir entre 0.\")\n",
    "except ValueError:\n",
    "    print(\"Debes ingresar un numero valido.\")\n",
    "else:\n",
    "    print(\"Todo funciono correctamente.]\")\n",
    "    \n",
    "print(\"Hola mundo.\")"
   ]
  },
  {
   "cell_type": "code",
   "execution_count": 9,
   "metadata": {},
   "outputs": [
    {
     "name": "stdout",
     "output_type": "stream",
     "text": [
      "No puedes dividir entre 0.\n",
      "Fin del programa.\n",
      "Hola mundo.\n"
     ]
    }
   ],
   "source": [
    "try:\n",
    "    numero = int(input(\"Introduce un numero: \"))\n",
    "    resultado = 10 / numero\n",
    "    print (resultado)\n",
    "except ZeroDivisionError:\n",
    "    print(\"No puedes dividir entre 0.\")\n",
    "except ValueError:\n",
    "    print(\"Debes ingresar un numero valido.\")\n",
    "else:\n",
    "    print(\"Todo funciono correctamente.]\")\n",
    "finally:\n",
    "    print(\"Fin del programa.\")\n",
    "    \n",
    "print(\"Hola mundo.\")"
   ]
  },
  {
   "cell_type": "markdown",
   "metadata": {},
   "source": [
    "#### Ejercicio práctico 1: Escribe un programa que solicite al usuario tres números y muestre la división de ambos, manejando posibles errores."
   ]
  },
  {
   "cell_type": "code",
   "execution_count": 1,
   "metadata": {},
   "outputs": [
    {
     "name": "stdout",
     "output_type": "stream",
     "text": [
      "El resultado de (30.0 + 20.0) / 10.0 es: 5.0\n"
     ]
    }
   ],
   "source": [
    "def dividir_numeros():\n",
    "    try:\n",
    "        # Solicitar tres números al usuario\n",
    "        num1 = float(input(\"Ingresa el primer número: \"))\n",
    "        num2 = float(input(\"Ingresa el segundo número: \"))\n",
    "        num3 = float(input(\"Ingresa el tercer número: \"))\n",
    "\n",
    "        # Intentar realizar la división\n",
    "        resultado = (num1 + num2) / num3\n",
    "        print(f\"El resultado de ({num1} + {num2}) / {num3} es: {resultado}\")\n",
    "\n",
    "    except ZeroDivisionError:\n",
    "        print(\"Error: No se puede dividir entre cero.\")\n",
    "    except ValueError:\n",
    "        print(\"Error: Ingresa solo números válidos.\")\n",
    "    except Exception as e:\n",
    "        print(f\"Ocurrió un error inesperado: {e}\")\n",
    "\n",
    "# Llamar a la función\n",
    "dividir_numeros()\n",
    "\n",
    "\n"
   ]
  }
 ],
 "metadata": {
  "kernelspec": {
   "display_name": "Python 3",
   "language": "python",
   "name": "python3"
  },
  "language_info": {
   "codemirror_mode": {
    "name": "ipython",
    "version": 3
   },
   "file_extension": ".py",
   "mimetype": "text/x-python",
   "name": "python",
   "nbconvert_exporter": "python",
   "pygments_lexer": "ipython3",
   "version": "3.13.2"
  }
 },
 "nbformat": 4,
 "nbformat_minor": 2
}
