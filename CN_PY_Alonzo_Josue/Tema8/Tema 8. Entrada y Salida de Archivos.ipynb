{
 "cells": [
  {
   "cell_type": "markdown",
   "metadata": {},
   "source": [
    "# Apertura de archivos"
   ]
  },
  {
   "cell_type": "code",
   "execution_count": 58,
   "metadata": {},
   "outputs": [],
   "source": [
    "archivo = open(\"ejemplo.txt\", \"r\")  # Abre el archivo en modo lectura"
   ]
  },
  {
   "cell_type": "code",
   "execution_count": 55,
   "metadata": {},
   "outputs": [
    {
     "name": "stdout",
     "output_type": "stream",
     "text": [
      "Holaaaaa\n",
      "si\n"
     ]
    }
   ],
   "source": [
    "contenido = archivo.read()\n",
    "print(contenido)"
   ]
  },
  {
   "cell_type": "code",
   "execution_count": 65,
   "metadata": {},
   "outputs": [
    {
     "name": "stdout",
     "output_type": "stream",
     "text": [
      "\n"
     ]
    }
   ],
   "source": [
    "contenido = archivo.readline()\n",
    "print(contenido)"
   ]
  },
  {
   "cell_type": "code",
   "execution_count": 4,
   "metadata": {},
   "outputs": [],
   "source": [
    "archivo = open(\"ejemplo.txt\", \"w\")\n",
    "archivo.write(\"Hola mundo!\")\n",
    "archivo.close()  "
   ]
  },
  {
   "cell_type": "code",
   "execution_count": 25,
   "metadata": {},
   "outputs": [],
   "source": [
    "archivo = open(\"hola.txt\", \"a\")\n",
    "archivo.write(\"Hola mundo!\\n\")\n",
    "archivo.close()"
   ]
  },
  {
   "cell_type": "code",
   "execution_count": 26,
   "metadata": {},
   "outputs": [
    {
     "name": "stdout",
     "output_type": "stream",
     "text": [
      "Hola mundo!\n",
      "Hola mundo!\n",
      "Hola mundo!\n",
      "Hola mundo!\n",
      "Hola mundo!\n",
      "\n"
     ]
    }
   ],
   "source": [
    "with open(\"hola.txt\", \"r\") as archivo:\n",
    "    contenido = archivo.read()\n",
    "    print(contenido)\n",
    "# El archivo se cierra automáticamente después del bloque 'with'"
   ]
  },
  {
   "cell_type": "code",
   "execution_count": 20,
   "metadata": {},
   "outputs": [],
   "source": [
    "tareas = [\"Comprar leche\", \"Estudiar Python\", \"Hacer ejercicio\"]\n",
    "\n",
    "with open(\"tareas.txt\", \"w\") as archivo:\n",
    "    for tarea in tareas:\n",
    "        archivo.write(tarea + \"\\n\")"
   ]
  },
  {
   "cell_type": "code",
   "execution_count": 27,
   "metadata": {},
   "outputs": [
    {
     "name": "stdout",
     "output_type": "stream",
     "text": [
      "Comprar leche\n",
      "Estudiar Python\n",
      "Hacer ejercicio\n"
     ]
    }
   ],
   "source": [
    "with open(\"tareas.txt\", \"r\") as archivo:\n",
    "    lineas = archivo.readlines()\n",
    "    for linea in lineas:\n",
    "        print(linea.strip())"
   ]
  },
  {
   "cell_type": "code",
   "execution_count": 15,
   "metadata": {},
   "outputs": [],
   "source": [
    "nueva_tarea = input(\"Introduce una nueva tarea: \")\n",
    "\n",
    "with open(\"tareas.txt\", \"a\") as archivo:\n",
    "    archivo.write(nueva_tarea + \"\\n\")"
   ]
  },
  {
   "cell_type": "code",
   "execution_count": 38,
   "metadata": {},
   "outputs": [
    {
     "name": "stdout",
     "output_type": "stream",
     "text": [
      "\n",
      "Tareas:\n",
      "Barrer\n",
      "Comprar 10 litros de agua\n"
     ]
    }
   ],
   "source": [
    "archivo = \"tareas.txt\"\n",
    "\n",
    "with open(archivo, \"a\") as arch:\n",
    "    while True:\n",
    "        tarea = input(\"Introduce una nueva tarea: \")\n",
    "        if tarea.isdigit():\n",
    "            break\n",
    "        arch.write(tarea + \"\\n\")\n",
    "\n",
    "print(\"\\nTareas:\")\n",
    "with open(archivo, \"r\") as leer:\n",
    "    print(leer.read().strip() or \"No hay tareas.\")\n"
   ]
  }
 ],
 "metadata": {
  "kernelspec": {
   "display_name": "Python 3",
   "language": "python",
   "name": "python3"
  },
  "language_info": {
   "codemirror_mode": {
    "name": "ipython",
    "version": 3
   },
   "file_extension": ".py",
   "mimetype": "text/x-python",
   "name": "python",
   "nbconvert_exporter": "python",
   "pygments_lexer": "ipython3",
   "version": "3.13.2"
  }
 },
 "nbformat": 4,
 "nbformat_minor": 2
}
