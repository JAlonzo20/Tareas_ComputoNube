{
 "cells": [
  {
   "cell_type": "code",
   "execution_count": 20,
   "metadata": {},
   "outputs": [],
   "source": [
    "###class = Fabrica\n",
    "### constructores = maquinas de las fabricas\n",
    "### parametros = objetos que maneja la maquina\n",
    "###self = this = objeto especifico"
   ]
  },
  {
   "cell_type": "code",
   "execution_count": 8,
   "metadata": {},
   "outputs": [],
   "source": [
    "class Pokemon:\n",
    "    name = \"\"\n",
    "    level = 0\n",
    "    hp = 0\n",
    "    attack = 0\n",
    "    defense = 0\n",
    "    \n",
    "    def describir(self):\n",
    "        print(\"Nombre: \", self.name)\n",
    "        print(\"Nivel: \", self.level)\n",
    "        print(\"HP: \", self.hp)\n",
    "        print(\"Ataque: \", self.attack)\n",
    "        print(\"Defensa: \", self.defense)\n",
    "    \n",
    "    def ataque_fuego(self): \n",
    "        print(\"Ahhh tira fuego\")"
   ]
  },
  {
   "cell_type": "code",
   "execution_count": 9,
   "metadata": {},
   "outputs": [
    {
     "name": "stdout",
     "output_type": "stream",
     "text": [
      "Nombre:  Charmander\n",
      "Nivel:  5\n",
      "HP:  39\n",
      "Ataque:  52\n",
      "Defensa:  30\n",
      "Ahhh tira fuego\n"
     ]
    }
   ],
   "source": [
    "pokemon1 = Pokemon()\n",
    "pokemon1.name = \"Charmander\"\n",
    "pokemon1.level = 5\n",
    "pokemon1.hp = 39\n",
    "pokemon1.attack = 52\n",
    "pokemon1.defense = 30\n",
    "pokemon1.describir()\n",
    "pokemon1.ataque_fuego()"
   ]
  },
  {
   "cell_type": "code",
   "execution_count": 10,
   "metadata": {},
   "outputs": [],
   "source": [
    "class Animal:\n",
    "    def __init__(self, raza, color, edad, sexo, patas):\n",
    "        self.raza = raza\n",
    "        self.color = color\n",
    "        self.edad = edad\n",
    "        self.sexo = sexo\n",
    "        self.patas = patas\n",
    "        \n",
    "    def describir(self):\n",
    "        print(\"Raza: \", self.raza)\n",
    "        print(\"Color: \", self.color)\n",
    "        print(\"Edad: \", self.edad)\n",
    "        print(\"Sexo: \", self.sexo)\n",
    "        print(\"Patas: \", self.patas)\n",
    "        "
   ]
  },
  {
   "cell_type": "code",
   "execution_count": 11,
   "metadata": {},
   "outputs": [
    {
     "name": "stdout",
     "output_type": "stream",
     "text": [
      "Raza:  Pastor Aleman\n",
      "Color:  Cafe\n",
      "Edad:  5\n",
      "Sexo:  Macho\n",
      "Patas:  4\n"
     ]
    }
   ],
   "source": [
    "perro1 = Animal(\"Pastor Aleman\", \"Cafe\", 5, \"Macho\", 4)\n",
    "perro1.describir()"
   ]
  },
  {
   "cell_type": "code",
   "execution_count": 21,
   "metadata": {},
   "outputs": [],
   "source": [
    "class Netflix:\n",
    "    def __init__(self, nombre, año, duracion, genero, clasificacion, director, formato, protagonista):\n",
    "        self.nombre = nombre\n",
    "        self.año = año\n",
    "        self.duracion = duracion\n",
    "        self.genero = genero\n",
    "        self.clasificacion = clasificacion\n",
    "        self.director = director\n",
    "        self.formato = formato\n",
    "        self.protagonista = protagonista\n",
    "        \n",
    "    def describir(self):\n",
    "        print(\"Nombre: \", self.nombre)\n",
    "        print(\"Año: \", self.año)\n",
    "        print(\"Duracion: \", self.duracion)\n",
    "        print(\"Genero: \", self.genero)\n",
    "        print(\"Clasificacion: \", self.clasificacion)\n",
    "        print(\"Director: \", self.director)\n",
    "        print(\"Formato: \", self.formato)\n",
    "        print(\"Protagonista: \", self.protagonista)\n",
    "        "
   ]
  },
  {
   "cell_type": "code",
   "execution_count": 22,
   "metadata": {},
   "outputs": [
    {
     "name": "stdout",
     "output_type": "stream",
     "text": [
      "Nombre:  Iron Man\n",
      "Año:  2008\n",
      "Duracion:  2 h 7 min\n",
      "Genero:  Superheroes, accion y aventura, Ciencia Ficcion\n",
      "Clasificacion:  13+\n",
      "Director:  Jon Favreau\n",
      "Formato:  IMAX, 4K UHD, HDR10\n",
      "Protagonista:  Robert Downey Jr\n"
     ]
    }
   ],
   "source": [
    "peli1 = Netflix(\"Iron Man\", 2008, \"2 h 7 min\", \"Superheroes, accion y aventura, Ciencia Ficcion\", \"13+\", \"Jon Favreau\", \"IMAX, 4K UHD, HDR10\", \"Robert Downey Jr\")\n",
    "peli1.describir()"
   ]
  }
 ],
 "metadata": {
  "kernelspec": {
   "display_name": "Python 3",
   "language": "python",
   "name": "python3"
  },
  "language_info": {
   "codemirror_mode": {
    "name": "ipython",
    "version": 3
   },
   "file_extension": ".py",
   "mimetype": "text/x-python",
   "name": "python",
   "nbconvert_exporter": "python",
   "pygments_lexer": "ipython3",
   "version": "3.13.2"
  }
 },
 "nbformat": 4,
 "nbformat_minor": 2
}
