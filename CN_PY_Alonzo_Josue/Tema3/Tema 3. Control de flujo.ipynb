{
 "cells": [
  {
   "cell_type": "markdown",
   "metadata": {},
   "source": [
    "#### **1. Condicionales: `if`, `elif`, `else`**\n"
   ]
  },
  {
   "cell_type": "code",
   "execution_count": null,
   "metadata": {},
   "outputs": [],
   "source": [
    "edad = 10\n",
    "\n",
    "if edad < 18:\n",
    "    print(\"Eres menor de edad.\")\n",
    "elif edad == 18:\n",
    "    print(\"Tienes justo 18 años.\")\n",
    "else:\n",
    "    print(\"Eres mayor de edad.\")"
   ]
  },
  {
   "cell_type": "code",
   "execution_count": null,
   "metadata": {},
   "outputs": [],
   "source": [
    "# iteracion por listas\n",
    "frutas = [\"Manzana\", \"Banana\", \"Cereza\"]\n",
    "\n",
    "for fruta in frutas:\n",
    "    print(fruta)"
   ]
  },
  {
   "cell_type": "code",
   "execution_count": null,
   "metadata": {},
   "outputs": [],
   "source": [
    "# iteracion por rango\n",
    "for i in range(10):\n",
    "    print(i)"
   ]
  },
  {
   "cell_type": "code",
   "execution_count": 2,
   "metadata": {},
   "outputs": [
    {
     "name": "stdout",
     "output_type": "stream",
     "text": [
      "La fruta Manzana tiene el indice 0\n",
      "La fruta Banana tiene el indice 1\n",
      "La fruta Cereza tiene el indice 2\n"
     ]
    }
   ],
   "source": [
    "# for con un enumerate() (indice y el elemento de lalista)\n",
    "frutas = [\"Manzana\", \"Banana\", \"Cereza\"]\n",
    "\n",
    "for i, fruta in enumerate(frutas):\n",
    "    print(f\"La fruta {fruta} tiene el indice {i}\")"
   ]
  },
  {
   "cell_type": "code",
   "execution_count": 6,
   "metadata": {},
   "outputs": [
    {
     "name": "stdout",
     "output_type": "stream",
     "text": [
      "La fruta Manzana es de color rojo\n",
      "La fruta Banana es de color amarillo\n",
      "La fruta Cereza es de color rojo\n"
     ]
    }
   ],
   "source": [
    "# For con un zip() (itera sobre dos listas al mismo tiempo)\n",
    "frutas = [\"Manzana\", \"Banana\", \"Cereza\"]\n",
    "colores = [\"rojo\", \"amarillo\", \"rojo\"]\n",
    "\n",
    "for fruta, color in zip(frutas, colores):\n",
    "    print(f\"La fruta {fruta} es de color {color}\")"
   ]
  },
  {
   "cell_type": "code",
   "execution_count": 7,
   "metadata": {},
   "outputs": [
    {
     "name": "stdout",
     "output_type": "stream",
     "text": [
      "['MANZANA', 'BANANA', 'CEREZA']\n"
     ]
    }
   ],
   "source": [
    "# For con comprension de listas\n",
    "# Se puede usar para crear una nueva lista a partir de una existente\n",
    "\n",
    "frutas = [\"manzana\", \"banana\", \"cereza\"]\n",
    "nueva_lista = [fruta.upper() for fruta in frutas]\n",
    "\n",
    "print(nueva_lista)"
   ]
  },
  {
   "cell_type": "code",
   "execution_count": 11,
   "metadata": {},
   "outputs": [
    {
     "name": "stdout",
     "output_type": "stream",
     "text": [
      "Tengo 10 manzanas\n",
      "Tengo 20 bananas\n",
      "Tengo 30 cerezas\n"
     ]
    }
   ],
   "source": [
    "# For dict comprension\n",
    "\n",
    "diccionario = {\"manzanas\":10, \"bananas\":20, \"cerezas\":30}\n",
    "\n",
    "for fruta, cantidad in diccionario.items():\n",
    "    print(f\"Tengo {cantidad} {fruta}\")\n"
   ]
  },
  {
   "cell_type": "code",
   "execution_count": 13,
   "metadata": {},
   "outputs": [
    {
     "name": "stdout",
     "output_type": "stream",
     "text": [
      "Manzana\n",
      "uva\n",
      "Cereza\n",
      "Banana\n"
     ]
    }
   ],
   "source": [
    "# For set -> es que no mantienen un orden de impresion\n",
    "\n",
    "frutas = {\"Manzana\", \"Banana\", \"Cereza\", \"uva\"}\n",
    "\n",
    "for fruta in frutas:\n",
    "    print(fruta)"
   ]
  },
  {
   "cell_type": "code",
   "execution_count": 14,
   "metadata": {},
   "outputs": [
    {
     "name": "stdout",
     "output_type": "stream",
     "text": [
      "manzana\n",
      "banana\n",
      "cereza\n"
     ]
    }
   ],
   "source": [
    "# For simulado, while\n",
    "\n",
    "frutas = [\"manzana\", \"banana\", \"cereza\"]\n",
    "\n",
    "i = 0\n",
    "\n",
    "while True:\n",
    "    if i >= len(frutas):\n",
    "        break\n",
    "    print(frutas[i])\n",
    "    i+=1"
   ]
  }
 ],
 "metadata": {
  "kernelspec": {
   "display_name": "Python 3",
   "language": "python",
   "name": "python3"
  },
  "language_info": {
   "codemirror_mode": {
    "name": "ipython",
    "version": 3
   },
   "file_extension": ".py",
   "mimetype": "text/x-python",
   "name": "python",
   "nbconvert_exporter": "python",
   "pygments_lexer": "ipython3",
   "version": "3.13.2"
  }
 },
 "nbformat": 4,
 "nbformat_minor": 2
}
