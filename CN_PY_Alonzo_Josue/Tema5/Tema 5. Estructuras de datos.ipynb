{
 "cells": [
  {
   "cell_type": "markdown",
   "metadata": {},
   "source": [
    "#### 1. Listas"
   ]
  },
  {
   "cell_type": "code",
   "execution_count": 1,
   "metadata": {},
   "outputs": [],
   "source": [
    "frutas = [\"manzana\", \"banana\", \"cereza\"]\n",
    "numeros = [1, 2, 3, 4, 5]\n",
    "mixto = [\"texto\", 123, True, 3.14]"
   ]
  },
  {
   "cell_type": "code",
   "execution_count": null,
   "metadata": {},
   "outputs": [
    {
     "name": "stdout",
     "output_type": "stream",
     "text": [
      "manzana\n",
      "uva\n"
     ]
    }
   ],
   "source": [
    "print(frutas[0]) #Imprime \"manzana\"\n",
    "frutas[1] = \"uva\" # Cambia \"banana\" por \"Uva\"\n",
    "print(frutas[1])\n",
    "frutas.append(\"naranja\") # Agrega \"naranja\" al final de la lista\n",
    "print(frutas)"
   ]
  },
  {
   "cell_type": "markdown",
   "metadata": {},
   "source": [
    "#### 2. Tuplas"
   ]
  },
  {
   "cell_type": "code",
   "execution_count": 8,
   "metadata": {},
   "outputs": [],
   "source": [
    "colores = (\"rojo\", \"verde\", \"azul\")"
   ]
  },
  {
   "cell_type": "code",
   "execution_count": 9,
   "metadata": {},
   "outputs": [
    {
     "name": "stdout",
     "output_type": "stream",
     "text": [
      "rojo\n"
     ]
    }
   ],
   "source": [
    "print(colores[0])"
   ]
  },
  {
   "cell_type": "markdown",
   "metadata": {},
   "source": [
    "#### 3. Sets"
   ]
  },
  {
   "cell_type": "code",
   "execution_count": null,
   "metadata": {},
   "outputs": [],
   "source": [
    "animales = {\"gato\", \"perro\", \"pez\", \"gatos\"} # Los elementos duplicados se eliminan"
   ]
  },
  {
   "cell_type": "code",
   "execution_count": 12,
   "metadata": {},
   "outputs": [
    {
     "name": "stdout",
     "output_type": "stream",
     "text": [
      "{'pez', 'perro', 'gato'}\n",
      "True\n"
     ]
    }
   ],
   "source": [
    "print(animales)\n",
    "print(\"gato\" in animales) # Verifica si un elemento está"
   ]
  },
  {
   "cell_type": "markdown",
   "metadata": {},
   "source": [
    "#### 4. Diccionarios"
   ]
  },
  {
   "cell_type": "code",
   "execution_count": 15,
   "metadata": {},
   "outputs": [],
   "source": [
    "persona = {\n",
    "    \"nombre\": \"Juan\",\n",
    "    \"edad\": 25,\n",
    "    \"ciudad\": \"Madrid\"\n",
    "}"
   ]
  },
  {
   "cell_type": "code",
   "execution_count": 16,
   "metadata": {},
   "outputs": [
    {
     "name": "stdout",
     "output_type": "stream",
     "text": [
      "Juan\n"
     ]
    }
   ],
   "source": [
    "print(persona[\"nombre\"])\n",
    "persona[\"edad\"] = 26"
   ]
  },
  {
   "cell_type": "markdown",
   "metadata": {},
   "source": [
    "### Metodos de arreglo\n",
    "### Investigar 10 metodos diferentes para cada tipo de arreglo.\n",
    "#Listas\n",
    "\n",
    "#Tuplas\n",
    "\n",
    "#Conjuntos (sets)\n",
    "\n",
    "#Diccionarios"
   ]
  },
  {
   "cell_type": "markdown",
   "metadata": {},
   "source": [
    "# Listas"
   ]
  },
  {
   "cell_type": "code",
   "execution_count": 22,
   "metadata": {},
   "outputs": [
    {
     "name": "stdout",
     "output_type": "stream",
     "text": [
      "[10, 20, 30, 40, 50]\n",
      "[10, 20, 30, 40, 50, 60, 70]\n",
      "[10, 20, 25, 30, 40, 50, 60, 70]\n",
      "[10, 20, 25, 40, 50, 60, 70]\n",
      "40\n",
      "[10, 20, 25, 50, 60, 70]\n",
      "2\n",
      "1\n",
      "[10, 20, 25, 50, 60, 70]\n",
      "[70, 60, 50, 25, 20, 10]\n",
      "[70, 60, 50, 25, 20, 10]\n"
     ]
    }
   ],
   "source": [
    "# Lista base\n",
    "lista = [10, 20, 30, 40]\n",
    "\n",
    "# 1. append()\n",
    "lista.append(50)\n",
    "print(lista)  # [10, 20, 30, 40, 50]\n",
    "\n",
    "# 2. extend()\n",
    "lista.extend([60, 70])\n",
    "print(lista)  # [10, 20, 30, 40, 50, 60, 70]\n",
    "\n",
    "# 3. insert()\n",
    "lista.insert(2, 25)\n",
    "print(lista)  # [10, 20, 25, 30, 40, 50, 60, 70]\n",
    "\n",
    "# 4. remove()\n",
    "lista.remove(30)\n",
    "print(lista)  # [10, 20, 25, 40, 50, 60, 70]\n",
    "\n",
    "# 5. pop()\n",
    "elemento = lista.pop(3)\n",
    "print(elemento)  # 40\n",
    "print(lista)     # [10, 20, 25, 50, 60, 70]\n",
    "\n",
    "# 6. index()\n",
    "posicion = lista.index(25)\n",
    "print(posicion)  # 2\n",
    "\n",
    "# 7. count()\n",
    "cantidad = lista.count(20)\n",
    "print(cantidad)  # 1\n",
    "\n",
    "# 8. sort()\n",
    "lista.sort()\n",
    "print(lista)  # [10, 20, 25, 50, 60, 70]\n",
    "\n",
    "# 9. reverse()\n",
    "lista.reverse()\n",
    "print(lista)  # [70, 60, 50, 25, 20, 10]\n",
    "\n",
    "# 10. copy()\n",
    "nueva_lista = lista.copy()\n",
    "print(nueva_lista)  # [70, 60, 50, 25, 20, 10]\n"
   ]
  },
  {
   "cell_type": "markdown",
   "metadata": {},
   "source": [
    "# Tuplas"
   ]
  },
  {
   "cell_type": "code",
   "execution_count": 18,
   "metadata": {},
   "outputs": [
    {
     "name": "stdout",
     "output_type": "stream",
     "text": [
      "2\n",
      "2\n",
      "5\n",
      "[5, 10, 10, 15, 20]\n",
      "5\n",
      "20\n",
      "60\n",
      "(1, 2, 3)\n",
      "True\n",
      "(5, 10, 15, 10, 20, 25, 30)\n"
     ]
    }
   ],
   "source": [
    "# Tupla base\n",
    "tupla = (5, 10, 15, 10, 20)\n",
    "\n",
    "# 1. count()\n",
    "print(tupla.count(10))  # 2\n",
    "\n",
    "# 2. index()\n",
    "print(tupla.index(15))  # 2\n",
    "\n",
    "# 3. len()\n",
    "print(len(tupla))  # 5\n",
    "\n",
    "# 4. sorted()\n",
    "print(sorted(tupla))  # [5, 10, 10, 15, 20]\n",
    "\n",
    "# 5. min()\n",
    "print(min(tupla))  # 5\n",
    "\n",
    "# 6. max()\n",
    "print(max(tupla))  # 20\n",
    "\n",
    "# 7. sum()\n",
    "print(sum(tupla))  # 60\n",
    "\n",
    "# 8. tuple()\n",
    "lista = [1, 2, 3]\n",
    "nueva_tupla = tuple(lista)\n",
    "print(nueva_tupla)  # (1, 2, 3)\n",
    "\n",
    "# 9. in\n",
    "print(10 in tupla)  # True\n",
    "\n",
    "# 10. +\n",
    "tupla2 = (25, 30)\n",
    "tupla_combinada = tupla + tupla2\n",
    "print(tupla_combinada)  # (5, 10, 15, 10, 20, 25, 30)\n"
   ]
  },
  {
   "cell_type": "markdown",
   "metadata": {},
   "source": [
    "# Conjuntos (Sets)"
   ]
  },
  {
   "cell_type": "code",
   "execution_count": null,
   "metadata": {},
   "outputs": [],
   "source": [
    "# Conjunto base\n",
    "conjunto = {1, 2, 3, 4}\n",
    "\n",
    "# 1. add()\n",
    "conjunto.add(5)\n",
    "print(conjunto)  # {1, 2, 3, 4, 5}\n",
    "\n",
    "# 2. remove()\n",
    "conjunto.remove(3)\n",
    "print(conjunto)  # {1, 2, 4, 5}\n",
    "\n",
    "# 3. discard()\n",
    "conjunto.discard(2)\n",
    "print(conjunto)  # {1, 4, 5}\n",
    "\n",
    "# 4. pop()\n",
    "elemento = conjunto.pop()\n",
    "print(elemento)  # 1 (o cualquier otro, ya que es aleatorio)\n",
    "print(conjunto)\n",
    "\n",
    "# 5. clear()\n",
    "conjunto.clear()\n",
    "print(conjunto)  # set()\n",
    "\n",
    "# 6. union()\n",
    "a = {1, 2, 3}\n",
    "b = {3, 4, 5}\n",
    "print(a.union(b))  # {1, 2, 3, 4, 5}\n",
    "\n",
    "# 7. intersection()\n",
    "print(a.intersection(b))  # {3}\n",
    "\n",
    "# 8. difference()\n",
    "print(a.difference(b))  # {1, 2}\n",
    "\n",
    "# 9. symmetric_difference()\n",
    "print(a.symmetric_difference(b))  # {1, 2, 4, 5}\n",
    "\n",
    "# 10. issubset()\n",
    "print({1, 2}.issubset(a))  # True\n"
   ]
  },
  {
   "cell_type": "markdown",
   "metadata": {},
   "source": [
    "# Diccionarios"
   ]
  },
  {
   "cell_type": "code",
   "execution_count": null,
   "metadata": {},
   "outputs": [],
   "source": [
    "# Diccionario base\n",
    "diccionario = {'nombre': 'Josue', 'edad': 21, 'ciudad': 'Cancún'}\n",
    "\n",
    "# 1. keys()\n",
    "print(diccionario.keys())  # dict_keys(['nombre', 'edad', 'ciudad'])\n",
    "\n",
    "# 2. values()\n",
    "print(diccionario.values())  # dict_values(['Josue', 21, 'Cancún'])\n",
    "\n",
    "# 3. items()\n",
    "print(diccionario.items())  # dict_items([('nombre', 'Josue'), ('edad', 21), ('ciudad', 'Cancún')])\n",
    "\n",
    "# 4. get()\n",
    "print(diccionario.get('nombre'))  # Josue\n",
    "\n",
    "# 5. update()\n",
    "diccionario.update({'edad': 22, 'profesion': 'Estudiante'})\n",
    "print(diccionario)\n",
    "\n",
    "# 6. pop()\n",
    "edad = diccionario.pop('edad')\n",
    "print(edad)  # 22\n",
    "print(diccionario)\n",
    "\n",
    "# 7. popitem()\n",
    "ultimo = diccionario.popitem()\n",
    "print(ultimo)  # ('profesion', 'Estudiante')\n",
    "print(diccionario)\n",
    "\n",
    "# 8. clear()\n",
    "diccionario.clear()\n",
    "print(diccionario)  # {}\n",
    "\n",
    "# 9. setdefault()\n",
    "diccionario.setdefault('nombre', 'Josue')\n",
    "print(diccionario)  # {'nombre': 'Josue'}\n",
    "\n",
    "# 10. copy()\n",
    "nuevo_diccionario = diccionario.copy()\n",
    "print(nuevo_diccionario)  # {'nombre': 'Josue'}\n"
   ]
  }
 ],
 "metadata": {
  "kernelspec": {
   "display_name": "Python 3",
   "language": "python",
   "name": "python3"
  },
  "language_info": {
   "codemirror_mode": {
    "name": "ipython",
    "version": 3
   },
   "file_extension": ".py",
   "mimetype": "text/x-python",
   "name": "python",
   "nbconvert_exporter": "python",
   "pygments_lexer": "ipython3",
   "version": "3.13.2"
  }
 },
 "nbformat": 4,
 "nbformat_minor": 2
}
